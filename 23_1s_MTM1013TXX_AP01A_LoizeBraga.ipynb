{
 "cells": [
  {
   "cell_type": "markdown",
   "id": "cf58f9fc",
   "metadata": {},
   "source": [
    "---\n",
    "---\n",
    "\n",
    "#### MTM224 - MÉT. NUM. E COMPUTACIONAIS  _&emsp;_ _&emsp;_ _&emsp;_ _&emsp;_   _&ensp;_ _&nbsp;_  Prof. Charles R. P. Szinvelski\n",
    "###  _&emsp;_  _&emsp;_  _&emsp;_ _&emsp;_ _&emsp;_ _&emsp;_ _&emsp;_  _&nbsp;_ _&emsp;_ _&emsp;_ AP(01) - PARTE (A)\n",
    "\n",
    "#### 1s/UFSM  _&emsp;_ _&emsp;_ _&emsp;_ _&emsp;_  _&emsp;_  _&emsp;_  _&emsp;_ _&emsp;_  _&emsp;_ _&emsp;_ _&emsp;_ _&emsp;_ _&emsp;_ _&emsp;_ _&emsp;_  _&ensp;_ _&ensp;_   _&ensp;_  _&nbsp;_ _&nbsp;_ Período: 27/03/23 - 15/05/22 \n",
    "#### Acadêmico: Loize Maria Braga  _&emsp;_ _&nbsp;_   Matrícula:  201413446  _&emsp;_ _&emsp;_ _&nbsp;_ Curso/Turma: 123/11\n",
    "\n",
    "---\n",
    "---"
   ]
  },
  {
   "cell_type": "markdown",
   "id": "753889a6",
   "metadata": {},
   "source": [
    "As questões antecipadas da Avaliação Parcial 01 Parte A (AP(01A)) tem por finalidade a exploração detalhada dos aspectos teóricos e práticos dos métodos numéricos abordados na disciplina (Zeros de Funções, Sistemas Lineares e recursos de programação em linguagem PYTHON 3 empregados nas respectivas implementaçãos). A antecipação destas questões permitará ao acadêmico tempo necessário para o aprofundamento da pesquisa e treinamento na produção do arquivo-resposta no formato livre, o qual deverá apresentar a impressão do arquivo dos enunciados e a resolução a mão das contas requeridas e sua entrega será no dia de realização da AP(01B) (10/05/23) e, também, servirá para treinamento na elaboração de arquivos nos formatos IPYNB e PDF nos estudos de implementação em linguagem PYTHON 3 para a conferência das respostas obtidas (não é obrigatória a entrega destas implementações para conferência).  \n",
    "\n",
    "<u> OBSERVAÇÕES GERAIS</u>\n",
    "\n",
    "- Será obrigatório a impressão dessa parte de enunciados das questões para a AP(01) e reforça-se que qualquer arquivo entregue  no formato IPYNB e/ou PDF deverá seguir a orientação para a nomeação (23_1s_MTM1013TXX_AP01A_NomeSobrenome.ipynb e/ou 23_1s_MTM1013TXX_AP01A_NomeSobrenome.pdf) e informações do cabeçalho prenchidas com as devidas adequações (ver acima). Essas normativas serão partes constituinte do escore da avaliação (divisões sucessivas por 2 a cada erro produzido);\n",
    "\n",
    "- Caso opte por uma complementação da resposta _a mão_ utilizando a linguagem PYTHON 3, os algoritmos que devem ser empregados tanto para as implementações em linguagem PYTHON 3 ou _testes de mesas_ são os algoritmos dados pelo material didático disponibilizado nos repositórios [MEGA](https://mega.nz/file/11sk1L4T#3isyksEZmWwo-fBnq2-XaCAjUQ7t-K8jf30P3m0wEbg) e [DRIVE](https://drive.google.com/file/d/1d7pa1onzTTEGN_R5Bm22zjnRUmnE-Ta3/view?usp=share_link) e não os sendo as respostas serão desconsideradas. Ressalta-se que os algoritmos do Material Didático são adequações dos algoritmos apresentados em Campos Filho (2018)[⁰], os quais podem ser utilizados para a implementação;\n",
    "\n",
    "- A elaboração das questões buscará caracterizações personalizadas para cada aluno, fato que resultará em um diversificado conjunto de situações-testes para a exploração dos aspectos teóricos e práticos da disciplina em  detrimento, eventualmente, da aplicabilidade do tema abordado na questão.\n",
    "\n",
    "[⁰]: Filho, F. F. C. Algoritmos Numéricos - Uma Abordagem Moderna de Cálc. Num., 3ª ed. Disponível em: [Minha Biblioteca](https://integrada.minhabiblioteca.com.br/reader/books/9788521635659/epubcfi/6/2%5B%3Bvnd.vst.idref%3Dcover%5D!/4/2/2%4050:43), Grupo GEN, 2018. \n",
    "<!---Ainda, há exemplares na BSCCNE.--->\n",
    "\n",
    "---"
   ]
  },
  {
   "cell_type": "markdown",
   "id": "9826fc75",
   "metadata": {},
   "source": [
    "###### Obtenção de dados para elaboração das questões. \n",
    "\n",
    "\n",
    "Ao considerar o meu número de matrícula na UFSM, 3332882, monta-se a tabela\n",
    "\n",
    "|d1 |d2 |d3 |d4 |d5 |d6 |d7 |d8 |d9 |d10|\n",
    "|:-:|:-:|:-:|:-:|:-:|:-:|:-:|:-:|:-:|:-:|\n",
    "| 0 | 0 | 0 | 3 | 3 | 3 | 2 | 8 | 8 | 2 | \n",
    "\n",
    "\n",
    "e sobre essas informações, colocam-se as seguintes elaborações: \n",
    "\n",
    "(I) Com as informações da matrícula e obtenção de sinal ($s$): \n",
    "\n",
    "- sinal $s$, respectivamente é \"$+$\" se a soma é um número par e \"$-$\" se a soma é um número ímpar; \n",
    "- $a=s\\frac{d1+...+d4}{10}=s\\frac{\\overbrace{0+0+0+3}^{\\mbox{ímpar}}}{10}=-0,3$;\n",
    "- $b=s\\frac{d5+d6+d7}{10}=s\\frac{\\overbrace{3+3+2}^{\\mbox{par}}}{10}=0,8$;\n",
    "- $c=s\\frac{d8+d9+d10}{10}=s\\frac{\\overbrace{8+8+2}^{\\mbox{par}}}{10}=1,8$;  Caso $c=0$, colocar $c=+1$;\n",
    "- $DADOS=[a,b,c]=[-0,3;0,8;1,8]$;\n",
    "\n",
    "$$ f(x)=a\\exp{\\left[b\\cos{(cx)}\\right]} , \\: x \\in [0,\\pi/c] \\overbrace{\\Leftrightarrow}^{DADOS} f(x)=-0,3\\exp{\\left[0,8\\cos{(1,8x)}\\right]}  , \\: x \\in [0,\\pi/1,8] .$$\n",
    "\n",
    "   (Gráfico via [WolframAlpha](https://www.wolframalpha.com/input?i=plot+%28-0.3%29exp%280.8cos%28%281.8%29x%29%29%2C+x%3D0+to+pi%2F1.8).)\n",
    "\n",
    "(II) Agora considere:\n",
    "\n",
    "- $a_3 =s(d4+d5)= s(\\overbrace{3+3}^{\\mbox{par}})=+6$;Caso $a_3=0$, colocar $+1$;\n",
    "- $a_2 =s(d6+d7)=s(\\overbrace{3+2}^{\\mbox{ímpar}})=-5$;\n",
    "- $a_1 =s(d8+d9)=s(\\overbrace{8+8}^{\\mbox{par}})=+16$;\n",
    "- $a_0 =s(d10)=s(\\overbrace{2}^{\\mbox{ímpar}})=+2$\n",
    "- $coef=[a_0,a_1,a_2,a_3]=[2,16,-5,6]$;\n",
    "\n",
    "Com estes dados montar o polinômio: $P_3(x)=a_3x^3+a_2x^2+a_1x+a_0=6x^3-5x^2+16x+2$ ([Gráfico WolframAlpha](https://www.wolframalpha.com/input?i=plot+6x3%E2%88%925x2%2B16x%2B2).)\n",
    "\n",
    "(III) Considere as informações acima, matrícula e demais dados, e monte os seguintes sistemas lineares:\n",
    "\n",
    "_&emsp;_ _&emsp;_ (IIIa) Monte o sistema linear dado por: \n",
    "\n",
    "$$ \\left\\{ \\begin{aligned} a_0x + (d_1+d_2)y +(d_2+d_3)z & = a \\\\ (d_3+d_4) x + a_1y +(d_4+d_5)z & = b  \\\\  (d_5+d_6)x + (d_6+d_7)y + a_2z & = c \\end{aligned}\\right. \\Leftrightarrow \\left\\{ \\begin{aligned} 2 x & = -0,3 \\\\ 3 x + 16y +6z & = 0,8 \\\\  6x + 5y + -5z & = 1,8 \\end{aligned}\\right.. $$\n",
    "\n",
    "_&emsp;_ _&emsp;_ (IIIb) Em um segundo momento, considere a matrícula e monte o sistema linear dado por: \n",
    "\n",
    "$$ \\left\\{ \\begin{aligned} 20 x + (d_1+d_2)y +(d_2+d_3)z & = d_8 \\\\ (d_3+d_4) x + 20y +(d_4+d_5)z & = d_9  \\\\  (d_5+d_6)x + (d_6+d_7)y + 20z & = d_{10} \\end{aligned}\\right. \\Leftrightarrow \\left\\{ \\begin{aligned} 20 x & = 8 \\\\ 3 x + 20y +6z & = 8 \\\\  6x + 5y + 20z & = 2 \\end{aligned}\\right.. $$\n",
    "\n",
    "(IV) Para gráficos pode-se usar as páginas tutoriais: [MATPLOLIB](https://matplotlib.org/stable/index.html), [SYMPY](https://www.tutorialspoint.com/sympy/sympy_plotting.htm) ou [SYMPY(2)](https://docs.sympy.org/latest/modules/plotting.html)."
   ]
  },
  {
   "cell_type": "markdown",
   "id": "59218ea1",
   "metadata": {},
   "source": [
    "---\n",
    "\n",
    "### QUESTÕES.\n",
    "\n",
    "**1) (1,0 ponto)** Faça o que se pede, a partir das intruções acima:\n",
    "\n",
    "   _&emsp;_ **1.1) (0,25 ponto [Dados])** Informe sua matrícula ($matricula=[d1,d2,d3,d4,d5,d6,d7,d8,d9,d10]$);\n",
    "   \n",
    "   _&emsp;_ **1.2) (0,25 ponto [Dados])** Monte a função $f$ associada e informe em forma de lista os dados obtidos ($DADOS$) e sua representação gráfica impressa a partir de bibliotecas PYTHON (MatPlotLib e/ou SymPy);\n",
    "   \n",
    "   _&emsp;_ **1.3) (0,25 ponto [Dados])** Monte o polinômio associado e informe os coeficientes do polinômio em forma de lista ($coef=[a_0,a_1,a_2,a_3]$) e arepresentação gráfica impressa a partir de bibliotecas PYTHON (MatPlotLib e/ou SymPy) para o polinômio;\n",
    "   \n",
    "   _&emsp;_ **1.4) (0,25 ponto [Dados])** Apresente os sistemas lineares de (III) e suas respectivas formas ampliadas para os dados postos;\n",
    "   \n",
    "\n",
    "**2) (1,0 ponto)** A partir dos dados em 1.2), aplique dois métodos distintos de obtenção de _Zero de Funções_ para obter os pontos de inflexão da função $f$; \n",
    "\n",
    "\n",
    "**3) (1,0 ponto)** A partir dos dados em 1.3), faça o que se pede: \n",
    "   \n",
    "   _&emsp;_ **3.1) (0,5 ponto)** Aplique os resultado teóricos (ver Material Didático, pg(s) 9-15) para informar o número de raízes reais e complexas, os intervalos onde se encontram as raízes reais positivas e negativas;\n",
    "   \n",
    "   _&emsp;_ **3.2) (0,5 ponto)** Aplique o Método de Birge-Vietà para determinar todas as raízes reais com duas casas de precisão (usar o erro relativo);  \n",
    "\n",
    "**4) (2,0 pontos)** A partir dos procedimentos em (III), faça o que se pede:\n",
    "\n",
    "   _&emsp;_ **4.1) (0,5 ponto)** Monte os Sistemas Lineares e informe quais são diagonais dominante;\n",
    "   \n",
    "   _&emsp;_ **4.2) (0,75 ponto)** Aplique o Método de Gauss Compacto para resolver o sistema linear análogo à IIIa e a resposta deverá apresentar:\n",
    "   \n",
    "   _&emsp;_ _&ensp;_ i. A matriz ampliada no formato acordado associado ao Sistema Linear;\n",
    "   \n",
    "   _&emsp;_ _&ensp;_ ii. O vetor _pivot_ indicando as permutações de linhas da matriz e a matriz permutada;\n",
    "   \n",
    "   _&emsp;_ _&ensp;_ iii. A Decomposição LU ($[LU:y]$);\n",
    "   \n",
    "   _&emsp;_ _&ensp;_ iv. O determinante de |A|;\n",
    "   \n",
    "   _&emsp;_ _&ensp;_ v. A solução _x_;\n",
    "\n",
    "_&emsp;_ **4.3) (0,75 ponto)** Aplique algum Método Iterativo para obter a resposta com duas casas de precisão para o sistema linear análogo à IIIb.\n",
    "\n",
    "   _&emsp;_ _&ensp;_ i. A matriz ampliada no formato acordado associado ao Sistema Linear;\n",
    "   \n",
    "   _&emsp;_ _&ensp;_ ii. A matriz no formato de aplicação do método iterativo elegido;\n",
    "   \n",
    "   _&emsp;_ _&ensp;_ iii. A solução _x_, justificado pela precisão alcançada;\n",
    "   \n",
    "\n",
    "---"
   ]
  },
  {
   "cell_type": "markdown",
   "id": "7d6dbb0c",
   "metadata": {},
   "source": [
    "**OBSERVAÇÃO:** Colocar os documentos IPYNB e PDF da resolução no espaço TAREFA do MOODLE  aberta, caso queira entregar o arquivo-resposta com esses recursos computacionais. Caso se resolva via Google COLAB, colocar link compartilhado sem restrições de acesso e também o arquivo PDF associado.\n",
    "\n",
    "---"
   ]
  },
  {
   "cell_type": "markdown",
   "id": "cee70391",
   "metadata": {},
   "source": [
    "RESOLUÇÕES:"
   ]
  },
  {
   "cell_type": "markdown",
   "id": "1c6c9056",
   "metadata": {},
   "source": [
    "Q. 1.1)"
   ]
  },
  {
   "cell_type": "code",
   "execution_count": 1,
   "id": "e0fd6499",
   "metadata": {},
   "outputs": [
    {
     "name": "stdout",
     "output_type": "stream",
     "text": [
      "[0, 2, 0, 1, 4, 1, 3, 4, 4, 6]\n"
     ]
    }
   ],
   "source": [
    "matricula = [0,2,0,1,4,1,3,4,4,6]\n",
    "print (matricula)"
   ]
  },
  {
   "cell_type": "markdown",
   "id": "3d1f74ff",
   "metadata": {},
   "source": [
    "Q.1.2)"
   ]
  },
  {
   "cell_type": "code",
   "execution_count": null,
   "id": "b4cae9c4",
   "metadata": {},
   "outputs": [],
   "source": []
  }
 ],
 "metadata": {
  "kernelspec": {
   "display_name": "Python 3 (ipykernel)",
   "language": "python",
   "name": "python3"
  },
  "language_info": {
   "codemirror_mode": {
    "name": "ipython",
    "version": 3
   },
   "file_extension": ".py",
   "mimetype": "text/x-python",
   "name": "python",
   "nbconvert_exporter": "python",
   "pygments_lexer": "ipython3",
   "version": "3.10.9"
  }
 },
 "nbformat": 4,
 "nbformat_minor": 5
}
